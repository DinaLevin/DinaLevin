{
 "cells": [
  {
   "cell_type": "code",
   "execution_count": null,
   "id": "7c29e40a",
   "metadata": {},
   "outputs": [],
   "source": [
    "import requests as rq\n",
    "import pandas as pd\n",
    "from bs4 import BeautifulSoup as bs\n",
    "import numpy as np"
   ]
  },
  {
   "cell_type": "code",
   "execution_count": null,
   "id": "8d0e10ae",
   "metadata": {},
   "outputs": [],
   "source": [
    "df1 = pd.read_csv(\"2022-2018.csv\")\n",
    "df2 = pd.read_csv(\"2018-2008.csv\")\n",
    "df3 = pd.read_csv(\"2008-1998.csv\")\n",
    "df4 = pd.read_csv(\"1998-1993.csv\")\n",
    "df5 = pd.read_csv(\"1993-1988.csv\")\n",
    "df6 = pd.read_csv(\"1988-1983.csv\")\n",
    "df7 = pd.read_csv(\"1983-1978.csv\")\n",
    "df8 = pd.read_csv(\"1978-1973.csv\")\n",
    "df9 = pd.read_csv(\"1973-1968.csv\")\n",
    "df10 = pd.read_csv(\"1968-1963.csv\")\n",
    "df11 = pd.read_csv(\"1963-1958.csv\")"
   ]
  },
  {
   "cell_type": "code",
   "execution_count": null,
   "id": "17cc1a88",
   "metadata": {},
   "outputs": [],
   "source": [
    "DFlist = [df1,df2,df3,df4,df5,df6,df7,df8,df9,df10,df11]\n",
    "\n",
    "should = df1.shape[0]\n",
    "\n",
    "for DF in DFlist:\n",
    "    df1 = df1.append(DF)\n",
    "    should = should + DF.shape[0]"
   ]
  },
  {
   "cell_type": "code",
   "execution_count": null,
   "id": "061411a7",
   "metadata": {},
   "outputs": [],
   "source": [
    "should"
   ]
  },
  {
   "cell_type": "code",
   "execution_count": null,
   "id": "e95eb49c",
   "metadata": {},
   "outputs": [],
   "source": [
    "df1.shape[0]"
   ]
  },
  {
   "cell_type": "code",
   "execution_count": null,
   "id": "324e6af6",
   "metadata": {},
   "outputs": [],
   "source": [
    "df1.to_csv(\"TotalDataFrame.csv\", encoding=\"utf-8-sig\")"
   ]
  },
  {
   "cell_type": "code",
   "execution_count": null,
   "id": "d0d8076a",
   "metadata": {},
   "outputs": [],
   "source": [
    "df1"
   ]
  },
  {
   "cell_type": "code",
   "execution_count": null,
   "id": "8338a35c",
   "metadata": {},
   "outputs": [],
   "source": [
    "Major = pd.read_csv(\"TotalDataFrame.csv\")"
   ]
  },
  {
   "cell_type": "code",
   "execution_count": null,
   "id": "fa1a1cdd",
   "metadata": {},
   "outputs": [],
   "source": [
    "Major.info()"
   ]
  },
  {
   "cell_type": "code",
   "execution_count": null,
   "id": "eee8eaf6",
   "metadata": {},
   "outputs": [],
   "source": [
    "#cleaning the major data frame"
   ]
  },
  {
   "cell_type": "code",
   "execution_count": null,
   "id": "198c8d3b",
   "metadata": {},
   "outputs": [],
   "source": [
    "Major.describe()"
   ]
  },
  {
   "cell_type": "code",
   "execution_count": null,
   "id": "c361b37c",
   "metadata": {},
   "outputs": [],
   "source": [
    "Major.to_csv(\"Grammy_Spotify_full_data.csv\", index=False)"
   ]
  }
 ],
 "metadata": {
  "kernelspec": {
   "display_name": "Python 3 (ipykernel)",
   "language": "python",
   "name": "python3"
  },
  "language_info": {
   "codemirror_mode": {
    "name": "ipython",
    "version": 3
   },
   "file_extension": ".py",
   "mimetype": "text/x-python",
   "name": "python",
   "nbconvert_exporter": "python",
   "pygments_lexer": "ipython3",
   "version": "3.9.13"
  }
 },
 "nbformat": 4,
 "nbformat_minor": 5
}
